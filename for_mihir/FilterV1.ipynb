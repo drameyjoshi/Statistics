{
 "cells": [
  {
   "cell_type": "code",
   "execution_count": 2,
   "id": "2e4ad2d8-0f2f-4a78-8f8a-0b25cd37ba04",
   "metadata": {},
   "outputs": [],
   "source": [
    "import os\n",
    "import pandas as pd\n",
    "from pathlib import Path"
   ]
  },
  {
   "cell_type": "code",
   "execution_count": 3,
   "id": "54267779-911d-4a62-86d0-c5f9ddd5ffa1",
   "metadata": {},
   "outputs": [
    {
     "name": "stdout",
     "output_type": "stream",
     "text": [
      "All files are available.\n"
     ]
    }
   ],
   "source": [
    "colnames = [\n",
    "    'State_Name',\n",
    "    'Constituency_No',\n",
    "    'Year',\n",
    "    'Position',\n",
    "    'Candidate',\n",
    "    'Party',\n",
    "    'Age',\n",
    "    'Constituency_Name',\n",
    "    'Vote_Share_Percentage',\n",
    "    'Turncoat',\n",
    "    'MyNeta_education',\n",
    "    'TCPD_Prof_Main',\n",
    "]\n",
    "\n",
    "dirname = '/home/amey/mihir/from_source'\n",
    "filelist = [\n",
    "    'TCPD_AE_Andhra_Pradesh_2024-12-23.csv',\n",
    "    'TCPD_AE_Bihar_2024-12-23.csv',\n",
    "    'TCPD_AE_Chhattisgarh_2024-12-23.csv',\n",
    "    'TCPD_AE_Gujarat_2024-12-23.csv',\n",
    "    'TCPD_AE_Haryana_2024-12-23.csv',\n",
    "    'TCPD_AE_Karnataka_2024-12-23.csv',\n",
    "    'TCPD_AE_Kerala_2024-12-23.csv',\n",
    "    'TCPD_AE_Madhya_Pradesh_2024-12-23.csv',\n",
    "    'TCPD_AE_Maharashtra_2024-12-23.csv',\n",
    "    'TCPD_AE_Punjab_2024-12-23.csv',\n",
    "    'TCPD_AE_Rajasthan_2024-12-23.csv',\n",
    "    'TCPD_AE_Tamil_Nadu_2024-12-23.csv',\n",
    "    'TCPD_AE_Telangana_2024-12-23.csv',\n",
    "    'TCPD_AE_Uttar_Pradesh_2024-12-23.csv',\n",
    "    'TCPD_AE_West_Bengal_2024-12-23.csv',\n",
    "]\n",
    "files_readable = [os.path.exists(os.path.join(dirname, f)) for f in filelist]\n",
    "if all(files_readable):\n",
    "    print('All files are available.')\n",
    "else:\n",
    "    print('Some files are not available.')"
   ]
  },
  {
   "cell_type": "code",
   "execution_count": 4,
   "id": "b2ea9ba4-defc-4bcf-b321-e8842899100c",
   "metadata": {},
   "outputs": [],
   "source": [
    "def process(pathname: str) -> None:\n",
    "    raw_data = pd.read_csv(pathname, low_memory=False, encoding='iso-8859-1')\n",
    "    data = raw_data[(raw_data['Year'] >= 2013) & (raw_data['Position'] == 1)][colnames]\n",
    "    data['seq'] = data.groupby('Constituency_No')['Year'].rank('dense')\n",
    "    winners = data[['Constituency_No', 'Year', 'Party', 'Position']][data['Position'] == 1].sort_values(by=['Constituency_No', 'Year'], ascending=False)\n",
    "    winners['prev_winning_party'] = winners.groupby('Constituency_No')['Party'].shift(-1)\n",
    "    data_1 = data.merge(winners[['Constituency_No', 'Year', 'prev_winning_party']], on=['Constituency_No', 'Year'], how='left')\n",
    "    data_1['flag'] = data_1['Party'] == data_1['prev_winning_party']\n",
    "    basename = Path(pathname).stem\n",
    "    newname = basename.replace('TCPD_AE_', '').replace('_2024-12-23', '') + '_processed.csv'\n",
    "    data_1.unique().to_csv(newname)"
   ]
  },
  {
   "cell_type": "code",
   "execution_count": 5,
   "id": "6ab2ae3c-b3a5-4117-a0a1-0a5ded4207ca",
   "metadata": {},
   "outputs": [
    {
     "ename": "AttributeError",
     "evalue": "'DataFrame' object has no attribute 'unique'",
     "output_type": "error",
     "traceback": [
      "\u001b[0;31m---------------------------------------------------------------------------\u001b[0m",
      "\u001b[0;31mAttributeError\u001b[0m                            Traceback (most recent call last)",
      "\u001b[0;32m/tmp/ipykernel_737/1181063174.py\u001b[0m in \u001b[0;36m?\u001b[0;34m()\u001b[0m\n\u001b[0;32m----> 1\u001b[0;31m \u001b[0m_\u001b[0m \u001b[0;34m=\u001b[0m \u001b[0;34m[\u001b[0m\u001b[0mprocess\u001b[0m\u001b[0;34m(\u001b[0m\u001b[0mos\u001b[0m\u001b[0;34m.\u001b[0m\u001b[0mpath\u001b[0m\u001b[0;34m.\u001b[0m\u001b[0mjoin\u001b[0m\u001b[0;34m(\u001b[0m\u001b[0mdirname\u001b[0m\u001b[0;34m,\u001b[0m \u001b[0mf\u001b[0m\u001b[0;34m)\u001b[0m\u001b[0;34m)\u001b[0m \u001b[0;32mfor\u001b[0m \u001b[0mf\u001b[0m \u001b[0;32min\u001b[0m \u001b[0mfilelist\u001b[0m\u001b[0;34m]\u001b[0m\u001b[0;34m\u001b[0m\u001b[0;34m\u001b[0m\u001b[0m\n\u001b[0m",
      "\u001b[0;32m/tmp/ipykernel_737/644620616.py\u001b[0m in \u001b[0;36m?\u001b[0;34m(pathname)\u001b[0m\n\u001b[1;32m      7\u001b[0m     \u001b[0mdata_1\u001b[0m \u001b[0;34m=\u001b[0m \u001b[0mdata\u001b[0m\u001b[0;34m.\u001b[0m\u001b[0mmerge\u001b[0m\u001b[0;34m(\u001b[0m\u001b[0mwinners\u001b[0m\u001b[0;34m[\u001b[0m\u001b[0;34m[\u001b[0m\u001b[0;34m'Constituency_No'\u001b[0m\u001b[0;34m,\u001b[0m \u001b[0;34m'Year'\u001b[0m\u001b[0;34m,\u001b[0m \u001b[0;34m'prev_winning_party'\u001b[0m\u001b[0;34m]\u001b[0m\u001b[0;34m]\u001b[0m\u001b[0;34m,\u001b[0m \u001b[0mon\u001b[0m\u001b[0;34m=\u001b[0m\u001b[0;34m[\u001b[0m\u001b[0;34m'Constituency_No'\u001b[0m\u001b[0;34m,\u001b[0m \u001b[0;34m'Year'\u001b[0m\u001b[0;34m]\u001b[0m\u001b[0;34m,\u001b[0m \u001b[0mhow\u001b[0m\u001b[0;34m=\u001b[0m\u001b[0;34m'left'\u001b[0m\u001b[0;34m)\u001b[0m\u001b[0;34m\u001b[0m\u001b[0;34m\u001b[0m\u001b[0m\n\u001b[1;32m      8\u001b[0m     \u001b[0mdata_1\u001b[0m\u001b[0;34m[\u001b[0m\u001b[0;34m'flag'\u001b[0m\u001b[0;34m]\u001b[0m \u001b[0;34m=\u001b[0m \u001b[0mdata_1\u001b[0m\u001b[0;34m[\u001b[0m\u001b[0;34m'Party'\u001b[0m\u001b[0;34m]\u001b[0m \u001b[0;34m==\u001b[0m \u001b[0mdata_1\u001b[0m\u001b[0;34m[\u001b[0m\u001b[0;34m'prev_winning_party'\u001b[0m\u001b[0;34m]\u001b[0m\u001b[0;34m\u001b[0m\u001b[0;34m\u001b[0m\u001b[0m\n\u001b[1;32m      9\u001b[0m     \u001b[0mbasename\u001b[0m \u001b[0;34m=\u001b[0m \u001b[0mPath\u001b[0m\u001b[0;34m(\u001b[0m\u001b[0mpathname\u001b[0m\u001b[0;34m)\u001b[0m\u001b[0;34m.\u001b[0m\u001b[0mstem\u001b[0m\u001b[0;34m\u001b[0m\u001b[0;34m\u001b[0m\u001b[0m\n\u001b[1;32m     10\u001b[0m     \u001b[0mnewname\u001b[0m \u001b[0;34m=\u001b[0m \u001b[0mbasename\u001b[0m\u001b[0;34m.\u001b[0m\u001b[0mreplace\u001b[0m\u001b[0;34m(\u001b[0m\u001b[0;34m'TCPD_AE_'\u001b[0m\u001b[0;34m,\u001b[0m \u001b[0;34m''\u001b[0m\u001b[0;34m)\u001b[0m\u001b[0;34m.\u001b[0m\u001b[0mreplace\u001b[0m\u001b[0;34m(\u001b[0m\u001b[0;34m'_2024-12-23'\u001b[0m\u001b[0;34m,\u001b[0m \u001b[0;34m''\u001b[0m\u001b[0;34m)\u001b[0m \u001b[0;34m+\u001b[0m \u001b[0;34m'_processed.csv'\u001b[0m\u001b[0;34m\u001b[0m\u001b[0;34m\u001b[0m\u001b[0m\n\u001b[0;32m---> 11\u001b[0;31m     \u001b[0mdata_1\u001b[0m\u001b[0;34m.\u001b[0m\u001b[0munique\u001b[0m\u001b[0;34m(\u001b[0m\u001b[0;34m)\u001b[0m\u001b[0;34m.\u001b[0m\u001b[0mto_csv\u001b[0m\u001b[0;34m(\u001b[0m\u001b[0mnewname\u001b[0m\u001b[0;34m)\u001b[0m\u001b[0;34m\u001b[0m\u001b[0;34m\u001b[0m\u001b[0m\n\u001b[0m",
      "\u001b[0;32m~/physics/lib/python3.12/site-packages/pandas/core/generic.py\u001b[0m in \u001b[0;36m?\u001b[0;34m(self, name)\u001b[0m\n\u001b[1;32m   6295\u001b[0m             \u001b[0;32mand\u001b[0m \u001b[0mname\u001b[0m \u001b[0;32mnot\u001b[0m \u001b[0;32min\u001b[0m \u001b[0mself\u001b[0m\u001b[0;34m.\u001b[0m\u001b[0m_accessors\u001b[0m\u001b[0;34m\u001b[0m\u001b[0;34m\u001b[0m\u001b[0m\n\u001b[1;32m   6296\u001b[0m             \u001b[0;32mand\u001b[0m \u001b[0mself\u001b[0m\u001b[0;34m.\u001b[0m\u001b[0m_info_axis\u001b[0m\u001b[0;34m.\u001b[0m\u001b[0m_can_hold_identifiers_and_holds_name\u001b[0m\u001b[0;34m(\u001b[0m\u001b[0mname\u001b[0m\u001b[0;34m)\u001b[0m\u001b[0;34m\u001b[0m\u001b[0;34m\u001b[0m\u001b[0m\n\u001b[1;32m   6297\u001b[0m         \u001b[0;34m)\u001b[0m\u001b[0;34m:\u001b[0m\u001b[0;34m\u001b[0m\u001b[0;34m\u001b[0m\u001b[0m\n\u001b[1;32m   6298\u001b[0m             \u001b[0;32mreturn\u001b[0m \u001b[0mself\u001b[0m\u001b[0;34m[\u001b[0m\u001b[0mname\u001b[0m\u001b[0;34m]\u001b[0m\u001b[0;34m\u001b[0m\u001b[0;34m\u001b[0m\u001b[0m\n\u001b[0;32m-> 6299\u001b[0;31m         \u001b[0;32mreturn\u001b[0m \u001b[0mobject\u001b[0m\u001b[0;34m.\u001b[0m\u001b[0m__getattribute__\u001b[0m\u001b[0;34m(\u001b[0m\u001b[0mself\u001b[0m\u001b[0;34m,\u001b[0m \u001b[0mname\u001b[0m\u001b[0;34m)\u001b[0m\u001b[0;34m\u001b[0m\u001b[0;34m\u001b[0m\u001b[0m\n\u001b[0m",
      "\u001b[0;31mAttributeError\u001b[0m: 'DataFrame' object has no attribute 'unique'"
     ]
    }
   ],
   "source": [
    "_ = [process(os.path.join(dirname, f)) for f in filelist]"
   ]
  }
 ],
 "metadata": {
  "kernelspec": {
   "display_name": "Python 3 (ipykernel)",
   "language": "python",
   "name": "python3"
  },
  "language_info": {
   "codemirror_mode": {
    "name": "ipython",
    "version": 3
   },
   "file_extension": ".py",
   "mimetype": "text/x-python",
   "name": "python",
   "nbconvert_exporter": "python",
   "pygments_lexer": "ipython3",
   "version": "3.12.3"
  }
 },
 "nbformat": 4,
 "nbformat_minor": 5
}
