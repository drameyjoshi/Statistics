{
 "cells": [
  {
   "cell_type": "code",
   "execution_count": 1,
   "id": "e07a8c36-dd45-400c-8eb7-5779b362f25b",
   "metadata": {},
   "outputs": [],
   "source": [
    "import statsmodels\n",
    "import pandas as pd\n",
    "import matplotlib.pyplot as plt\n",
    "import numpy as np\n",
    "import scipy\n",
    "import os\n",
    "\n",
    "import statsmodels.api as sm"
   ]
  },
  {
   "cell_type": "markdown",
   "id": "702151fa-474b-4659-a428-385fb87447a7",
   "metadata": {},
   "source": [
    "$$\n",
    "\\newcommand{\\cor}{\\text{Cor}}\n",
    "\\newcommand{\\var}{\\text{Var}}\n",
    "\\newcommand{\\cov}{\\text{Cov}}\n",
    "\\newcommand{E}{\\text{E}}\n",
    "$$"
   ]
  },
  {
   "cell_type": "markdown",
   "id": "5f60e406-908c-4cdb-ba8e-3d1b45793afd",
   "metadata": {},
   "source": [
    "Residuals is what remains to be explained after fitting the regression line. The regression model is $Y_i = \\beta_0 + \\beta_1 X_i + \\epsilon_i$. We estimate the unknown parameters $\\beta_0$ and $\\beta_1$ as\n",
    "$$\n",
    "\\begin{eqnarray}\n",
    "\\hat{\\beta}_1 &=& \\cor(Y, X)\\frac{S_X}{S_Y} \\\\\n",
    "\\hat{\\beta}_0 &=& \\bar{Y} - \\hat{\\beta}_1\\bar{X}\n",
    "\\end{eqnarray}\n",
    "$$\n",
    "We will examine the residuals in Galton's data. The fit in diamond data is quite impressive and may not help understand the idea and importance of residuals. The residuals are defined as \n",
    "$$\n",
    "e_i = Y_i - \\hat{Y}_i.\n",
    "$$\n",
    "An analysis of the residuals helps us understand why a model does not fit well."
   ]
  },
  {
   "cell_type": "code",
   "execution_count": 5,
   "id": "bda31d10-60f2-4251-98b5-616f011aa00f",
   "metadata": {},
   "outputs": [],
   "source": [
    "filename = 'galton.csv'\n",
    "pathname = os.path.join('.', 'datasets', filename)\n",
    "if os.path.isfile(pathname):\n",
    "    df: pd.core.frame.DataFrame = pd.read_csv(pathname)\n",
    "else:\n",
    "    assert False"
   ]
  },
  {
   "cell_type": "code",
   "execution_count": 6,
   "id": "2b621af3-bf81-49dc-90c1-b199751670af",
   "metadata": {},
   "outputs": [
    {
     "data": {
      "text/html": [
       "<div>\n",
       "<style scoped>\n",
       "    .dataframe tbody tr th:only-of-type {\n",
       "        vertical-align: middle;\n",
       "    }\n",
       "\n",
       "    .dataframe tbody tr th {\n",
       "        vertical-align: top;\n",
       "    }\n",
       "\n",
       "    .dataframe thead th {\n",
       "        text-align: right;\n",
       "    }\n",
       "</style>\n",
       "<table border=\"1\" class=\"dataframe\">\n",
       "  <thead>\n",
       "    <tr style=\"text-align: right;\">\n",
       "      <th></th>\n",
       "      <th>child</th>\n",
       "      <th>parent</th>\n",
       "    </tr>\n",
       "  </thead>\n",
       "  <tbody>\n",
       "    <tr>\n",
       "      <th>0</th>\n",
       "      <td>61.7</td>\n",
       "      <td>70.5</td>\n",
       "    </tr>\n",
       "    <tr>\n",
       "      <th>1</th>\n",
       "      <td>61.7</td>\n",
       "      <td>68.5</td>\n",
       "    </tr>\n",
       "    <tr>\n",
       "      <th>2</th>\n",
       "      <td>61.7</td>\n",
       "      <td>65.5</td>\n",
       "    </tr>\n",
       "    <tr>\n",
       "      <th>3</th>\n",
       "      <td>61.7</td>\n",
       "      <td>64.5</td>\n",
       "    </tr>\n",
       "    <tr>\n",
       "      <th>4</th>\n",
       "      <td>61.7</td>\n",
       "      <td>64.0</td>\n",
       "    </tr>\n",
       "  </tbody>\n",
       "</table>\n",
       "</div>"
      ],
      "text/plain": [
       "   child  parent\n",
       "0   61.7    70.5\n",
       "1   61.7    68.5\n",
       "2   61.7    65.5\n",
       "3   61.7    64.5\n",
       "4   61.7    64.0"
      ]
     },
     "execution_count": 6,
     "metadata": {},
     "output_type": "execute_result"
    }
   ],
   "source": [
    "df.head()"
   ]
  },
  {
   "cell_type": "code",
   "execution_count": 7,
   "id": "7f7727a9-d854-4245-8b70-659aac8d1774",
   "metadata": {},
   "outputs": [
    {
     "data": {
      "text/html": [
       "<table class=\"simpletable\">\n",
       "<caption>OLS Regression Results</caption>\n",
       "<tr>\n",
       "  <th>Dep. Variable:</th>          <td>child</td>      <th>  R-squared:         </th> <td>   0.210</td>\n",
       "</tr>\n",
       "<tr>\n",
       "  <th>Model:</th>                   <td>OLS</td>       <th>  Adj. R-squared:    </th> <td>   0.210</td>\n",
       "</tr>\n",
       "<tr>\n",
       "  <th>Method:</th>             <td>Least Squares</td>  <th>  F-statistic:       </th> <td>   246.8</td>\n",
       "</tr>\n",
       "<tr>\n",
       "  <th>Date:</th>             <td>Sun, 04 Aug 2024</td> <th>  Prob (F-statistic):</th> <td>1.73e-49</td>\n",
       "</tr>\n",
       "<tr>\n",
       "  <th>Time:</th>                 <td>16:58:32</td>     <th>  Log-Likelihood:    </th> <td> -2063.6</td>\n",
       "</tr>\n",
       "<tr>\n",
       "  <th>No. Observations:</th>      <td>   928</td>      <th>  AIC:               </th> <td>   4131.</td>\n",
       "</tr>\n",
       "<tr>\n",
       "  <th>Df Residuals:</th>          <td>   926</td>      <th>  BIC:               </th> <td>   4141.</td>\n",
       "</tr>\n",
       "<tr>\n",
       "  <th>Df Model:</th>              <td>     1</td>      <th>                     </th>     <td> </td>   \n",
       "</tr>\n",
       "<tr>\n",
       "  <th>Covariance Type:</th>      <td>nonrobust</td>    <th>                     </th>     <td> </td>   \n",
       "</tr>\n",
       "</table>\n",
       "<table class=\"simpletable\">\n",
       "<tr>\n",
       "     <td></td>       <th>coef</th>     <th>std err</th>      <th>t</th>      <th>P>|t|</th>  <th>[0.025</th>    <th>0.975]</th>  \n",
       "</tr>\n",
       "<tr>\n",
       "  <th>const</th>  <td>   23.9415</td> <td>    2.811</td> <td>    8.517</td> <td> 0.000</td> <td>   18.425</td> <td>   29.458</td>\n",
       "</tr>\n",
       "<tr>\n",
       "  <th>parent</th> <td>    0.6463</td> <td>    0.041</td> <td>   15.711</td> <td> 0.000</td> <td>    0.566</td> <td>    0.727</td>\n",
       "</tr>\n",
       "</table>\n",
       "<table class=\"simpletable\">\n",
       "<tr>\n",
       "  <th>Omnibus:</th>       <td>11.057</td> <th>  Durbin-Watson:     </th> <td>   0.046</td>\n",
       "</tr>\n",
       "<tr>\n",
       "  <th>Prob(Omnibus):</th> <td> 0.004</td> <th>  Jarque-Bera (JB):  </th> <td>  10.944</td>\n",
       "</tr>\n",
       "<tr>\n",
       "  <th>Skew:</th>          <td>-0.241</td> <th>  Prob(JB):          </th> <td> 0.00420</td>\n",
       "</tr>\n",
       "<tr>\n",
       "  <th>Kurtosis:</th>      <td> 2.775</td> <th>  Cond. No.          </th> <td>2.61e+03</td>\n",
       "</tr>\n",
       "</table><br/><br/>Notes:<br/>[1] Standard Errors assume that the covariance matrix of the errors is correctly specified.<br/>[2] The condition number is large, 2.61e+03. This might indicate that there are<br/>strong multicollinearity or other numerical problems."
      ],
      "text/latex": [
       "\\begin{center}\n",
       "\\begin{tabular}{lclc}\n",
       "\\toprule\n",
       "\\textbf{Dep. Variable:}    &      child       & \\textbf{  R-squared:         } &     0.210   \\\\\n",
       "\\textbf{Model:}            &       OLS        & \\textbf{  Adj. R-squared:    } &     0.210   \\\\\n",
       "\\textbf{Method:}           &  Least Squares   & \\textbf{  F-statistic:       } &     246.8   \\\\\n",
       "\\textbf{Date:}             & Sun, 04 Aug 2024 & \\textbf{  Prob (F-statistic):} &  1.73e-49   \\\\\n",
       "\\textbf{Time:}             &     16:58:32     & \\textbf{  Log-Likelihood:    } &   -2063.6   \\\\\n",
       "\\textbf{No. Observations:} &         928      & \\textbf{  AIC:               } &     4131.   \\\\\n",
       "\\textbf{Df Residuals:}     &         926      & \\textbf{  BIC:               } &     4141.   \\\\\n",
       "\\textbf{Df Model:}         &           1      & \\textbf{                     } &             \\\\\n",
       "\\textbf{Covariance Type:}  &    nonrobust     & \\textbf{                     } &             \\\\\n",
       "\\bottomrule\n",
       "\\end{tabular}\n",
       "\\begin{tabular}{lcccccc}\n",
       "                & \\textbf{coef} & \\textbf{std err} & \\textbf{t} & \\textbf{P$> |$t$|$} & \\textbf{[0.025} & \\textbf{0.975]}  \\\\\n",
       "\\midrule\n",
       "\\textbf{const}  &      23.9415  &        2.811     &     8.517  &         0.000        &       18.425    &       29.458     \\\\\n",
       "\\textbf{parent} &       0.6463  &        0.041     &    15.711  &         0.000        &        0.566    &        0.727     \\\\\n",
       "\\bottomrule\n",
       "\\end{tabular}\n",
       "\\begin{tabular}{lclc}\n",
       "\\textbf{Omnibus:}       & 11.057 & \\textbf{  Durbin-Watson:     } &    0.046  \\\\\n",
       "\\textbf{Prob(Omnibus):} &  0.004 & \\textbf{  Jarque-Bera (JB):  } &   10.944  \\\\\n",
       "\\textbf{Skew:}          & -0.241 & \\textbf{  Prob(JB):          } &  0.00420  \\\\\n",
       "\\textbf{Kurtosis:}      &  2.775 & \\textbf{  Cond. No.          } & 2.61e+03  \\\\\n",
       "\\bottomrule\n",
       "\\end{tabular}\n",
       "%\\caption{OLS Regression Results}\n",
       "\\end{center}\n",
       "\n",
       "Notes: \\newline\n",
       " [1] Standard Errors assume that the covariance matrix of the errors is correctly specified. \\newline\n",
       " [2] The condition number is large, 2.61e+03. This might indicate that there are \\newline\n",
       " strong multicollinearity or other numerical problems."
      ],
      "text/plain": [
       "<class 'statsmodels.iolib.summary.Summary'>\n",
       "\"\"\"\n",
       "                            OLS Regression Results                            \n",
       "==============================================================================\n",
       "Dep. Variable:                  child   R-squared:                       0.210\n",
       "Model:                            OLS   Adj. R-squared:                  0.210\n",
       "Method:                 Least Squares   F-statistic:                     246.8\n",
       "Date:                Sun, 04 Aug 2024   Prob (F-statistic):           1.73e-49\n",
       "Time:                        16:58:32   Log-Likelihood:                -2063.6\n",
       "No. Observations:                 928   AIC:                             4131.\n",
       "Df Residuals:                     926   BIC:                             4141.\n",
       "Df Model:                           1                                         \n",
       "Covariance Type:            nonrobust                                         \n",
       "==============================================================================\n",
       "                 coef    std err          t      P>|t|      [0.025      0.975]\n",
       "------------------------------------------------------------------------------\n",
       "const         23.9415      2.811      8.517      0.000      18.425      29.458\n",
       "parent         0.6463      0.041     15.711      0.000       0.566       0.727\n",
       "==============================================================================\n",
       "Omnibus:                       11.057   Durbin-Watson:                   0.046\n",
       "Prob(Omnibus):                  0.004   Jarque-Bera (JB):               10.944\n",
       "Skew:                          -0.241   Prob(JB):                      0.00420\n",
       "Kurtosis:                       2.775   Cond. No.                     2.61e+03\n",
       "==============================================================================\n",
       "\n",
       "Notes:\n",
       "[1] Standard Errors assume that the covariance matrix of the errors is correctly specified.\n",
       "[2] The condition number is large, 2.61e+03. This might indicate that there are\n",
       "strong multicollinearity or other numerical problems.\n",
       "\"\"\""
      ]
     },
     "execution_count": 7,
     "metadata": {},
     "output_type": "execute_result"
    }
   ],
   "source": [
    "model = sm.OLS(endog=df['child'], exog=sm.add_constant(df['parent']))\n",
    "result = model.fit()\n",
    "result.summary()"
   ]
  },
  {
   "cell_type": "code",
   "execution_count": 9,
   "id": "3aca9e33-9efe-4482-9f26-c3a3185186b9",
   "metadata": {},
   "outputs": [],
   "source": [
    "Y_hat: np.array = result.predict()\n",
    "residual: np.array = df['child'] - Y_hat"
   ]
  },
  {
   "cell_type": "code",
   "execution_count": 10,
   "id": "9b2b681a-6c66-4989-acb4-d0817ee5ca54",
   "metadata": {},
   "outputs": [
    {
     "data": {
      "text/plain": [
       "np.float64(-1.0449878510402853e-13)"
      ]
     },
     "execution_count": 10,
     "metadata": {},
     "output_type": "execute_result"
    }
   ],
   "source": [
    "np.mean(residual)"
   ]
  },
  {
   "cell_type": "code",
   "execution_count": 14,
   "id": "8633814d-4a52-4425-ac3d-d56a3a1aaef0",
   "metadata": {},
   "outputs": [
    {
     "data": {
      "image/png": "[encoded data removed]",
      "text/plain": [
       "<Figure size 640x480 with 1 Axes>"
      ]
     },
     "metadata": {},
     "output_type": "display_data"
    }
   ],
   "source": [
    "_ = plt.hist(residual, bins=50)\n",
    "_ = plt.xlabel('residual')\n",
    "_ = plt.title('Distribution of residuals')"
   ]
  },
  {
   "cell_type": "code",
   "execution_count": 15,
   "id": "c8157a78-3759-4e35-ab6b-de99efe80ea6",
   "metadata": {},
   "outputs": [
    {
     "data": {
      "image/png": "[encoded data removed]",
      "text/plain": [
       "<Figure size 640x480 with 1 Axes>"
      ]
     },
     "metadata": {},
     "output_type": "display_data"
    }
   ],
   "source": [
    "plt.scatter(df['parent'], residual, s=2)\n",
    "plt.xlabel('X')\n",
    "plt.ylabel('e')\n",
    "_ = plt.title(r'Residual for each $X$_i')"
   ]
  },
  {
   "cell_type": "markdown",
   "id": "c67bbc1a-6c5e-4f82-bb2b-8a380815f7ac",
   "metadata": {},
   "source": [
    "A few observations:\n",
    "\n",
    "- The spread in the residuals is not constant across the input. Therefore, the assumption that $\\epsilon_i$ are iid $N(0, \\sigma^2)$ is not valid.\n",
    "- There also seems to be an oscillatory pattern to the residuals.\n",
    "\n",
    "In the next cell, we will look at synthetic data designed to show oscillatory residuals when a linear model is fit."
   ]
  },
  {
   "cell_type": "code",
   "execution_count": 20,
   "id": "7980dafd-d77b-4be8-8d22-e4ccbad58afb",
   "metadata": {},
   "outputs": [
    {
     "data": {
      "image/png": "[encoded data removed]",
      "text/plain": [
       "<Figure size 640x480 with 1 Axes>"
      ]
     },
     "metadata": {},
     "output_type": "display_data"
    }
   ],
   "source": [
    "X = np.linspace(0, 4, 100)\n",
    "Y = 0.5 * X + np.sin(X)\n",
    "model_1 = sm.OLS(Y, sm.add_constant(X))\n",
    "result_1 = model_1.fit()\n",
    "_ = plt.scatter(X, result_1.resid, s=2)\n",
    "_ = plt.xlabel('X')\n",
    "_ = plt.ylabel('E')\n",
    "_ = plt.title('Residuals')"
   ]
  },
  {
   "cell_type": "markdown",
   "id": "8b5afb75-e3bf-465d-a1d2-f295c5603ea3",
   "metadata": {},
   "source": [
    "In the next synthetic data set, we will deliberately add random noise that does not remain constant."
   ]
  },
  {
   "cell_type": "code",
   "execution_count": 23,
   "id": "efab8fa2-dbc9-4016-9cf1-675b4452e079",
   "metadata": {},
   "outputs": [],
   "source": [
    "n_samples = 100\n",
    "X = np.linspace(0, 4, n_samples)\n",
    "Y = 0.5 * X + np.sqrt(X) * np.random.normal(0, 1, n_samples)"
   ]
  },
  {
   "cell_type": "code",
   "execution_count": 24,
   "id": "d8255c16-0925-40eb-bdd2-a5d99c79a7ce",
   "metadata": {},
   "outputs": [
    {
     "data": {
      "image/png": "[encoded data removed]",
      "text/plain": [
       "<Figure size 640x480 with 1 Axes>"
      ]
     },
     "metadata": {},
     "output_type": "display_data"
    }
   ],
   "source": [
    "model_2 = sm.OLS(Y, sm.add_constant(X))\n",
    "result_2 = model_2.fit()\n",
    "_ = plt.scatter(X, result_2.resid, s=2)\n",
    "_ = plt.xlabel('X')\n",
    "_ = plt.ylabel('E')\n",
    "_ = plt.title('Residuals')"
   ]
  },
  {
   "cell_type": "markdown",
   "id": "75c1e518-9a71-4575-872a-60671b542ac2",
   "metadata": {},
   "source": [
    "The residuals show a blatant violation of the assumption of uniform variance. The violation is called _heteroscedasticity_ while the adherence is called _homoscedasticity_."
   ]
  },
  {
   "cell_type": "markdown",
   "id": "34becc38-800f-4de7-80d9-72a8b7d1e8f8",
   "metadata": {},
   "source": [
    "MSE or residuals is \n",
    "$$\n",
    "\\frac{1}{N-2}\\sum_{i=1}^N (e_i - \\bar{e})^2 = \\frac{1}{N-2}\\sum_{i=1}^N e_i^2,\n",
    "$$\n",
    "as $\\bar{e} = 0$ for a model with intercept. We confirm that using the code in the next two cells. This is called 'variance of residuals'. It differs slightly from the $\\var\\;E$, which we compute separately."
   ]
  },
  {
   "cell_type": "code",
   "execution_count": 25,
   "id": "f9bb750b-c8ef-45ca-afee-7ec9eca71b5d",
   "metadata": {},
   "outputs": [
    {
     "data": {
      "text/plain": [
       "np.float64(2.3898143592105066)"
      ]
     },
     "execution_count": 25,
     "metadata": {},
     "output_type": "execute_result"
    }
   ],
   "source": [
    "result_2.mse_resid"
   ]
  },
  {
   "cell_type": "code",
   "execution_count": 33,
   "id": "757fc27a-e54e-496a-b29f-6bc9f311f0e0",
   "metadata": {},
   "outputs": [
    {
     "data": {
      "text/plain": [
       "np.float64(2.3898143592105066)"
      ]
     },
     "execution_count": 33,
     "metadata": {},
     "output_type": "execute_result"
    }
   ],
   "source": [
    "np.sum(result_2.resid**2)/(n_samples - 2)"
   ]
  },
  {
   "cell_type": "code",
   "execution_count": 27,
   "id": "b83c98ed-3929-4349-b6d0-28b382f20996",
   "metadata": {},
   "outputs": [
    {
     "data": {
      "text/plain": [
       "np.float64(2.3420180720262964)"
      ]
     },
     "execution_count": 27,
     "metadata": {},
     "output_type": "execute_result"
    }
   ],
   "source": [
    "np.var(result_2.resid)"
   ]
  }
 ],
 "metadata": {
  "kernelspec": {
   "display_name": "Python 3 (ipykernel)",
   "language": "python",
   "name": "python3"
  },
  "language_info": {
   "codemirror_mode": {
    "name": "ipython",
    "version": 3
   },
   "file_extension": ".py",
   "mimetype": "text/x-python",
   "name": "python",
   "nbconvert_exporter": "python",
   "pygments_lexer": "ipython3",
   "version": "3.12.4"
  }
 },
 "nbformat": 4,
 "nbformat_minor": 5
}
